{
  "cells": [
    {
      "cell_type": "code",
      "execution_count": 2,
      "id": "0a558465-7d65-4b2a-a26c-cf22c7455347",
      "metadata": {
        "id": "0a558465-7d65-4b2a-a26c-cf22c7455347",
        "colab": {
          "base_uri": "https://localhost:8080/",
          "height": 692
        },
        "outputId": "24c7a707-6cfc-4f53-a737-124f7d71a10b"
      },
      "outputs": [
        {
          "output_type": "stream",
          "name": "stdout",
          "text": [
            "<class 'pandas.core.frame.DataFrame'>\n",
            "RangeIndex: 513643 entries, 0 to 513642\n",
            "Data columns (total 10 columns):\n",
            " #   Column       Non-Null Count   Dtype  \n",
            "---  ------       --------------   -----  \n",
            " 0   step         513643 non-null  int64  \n",
            " 1   customer     513643 non-null  object \n",
            " 2   age          513643 non-null  object \n",
            " 3   gender       513643 non-null  object \n",
            " 4   zipcodeOri   513643 non-null  object \n",
            " 5   merchant     513643 non-null  object \n",
            " 6   zipMerchant  513643 non-null  object \n",
            " 7   category     513643 non-null  object \n",
            " 8   amount       513643 non-null  float64\n",
            " 9   fraud        513643 non-null  int64  \n",
            "dtypes: float64(1), int64(2), object(7)\n",
            "memory usage: 39.2+ MB\n"
          ]
        },
        {
          "output_type": "execute_result",
          "data": {
            "text/plain": [
              "step           0\n",
              "customer       0\n",
              "age            0\n",
              "gender         0\n",
              "zipcodeOri     0\n",
              "merchant       0\n",
              "zipMerchant    0\n",
              "category       0\n",
              "amount         0\n",
              "fraud          0\n",
              "dtype: int64"
            ],
            "text/html": [
              "<div>\n",
              "<style scoped>\n",
              "    .dataframe tbody tr th:only-of-type {\n",
              "        vertical-align: middle;\n",
              "    }\n",
              "\n",
              "    .dataframe tbody tr th {\n",
              "        vertical-align: top;\n",
              "    }\n",
              "\n",
              "    .dataframe thead th {\n",
              "        text-align: right;\n",
              "    }\n",
              "</style>\n",
              "<table border=\"1\" class=\"dataframe\">\n",
              "  <thead>\n",
              "    <tr style=\"text-align: right;\">\n",
              "      <th></th>\n",
              "      <th>0</th>\n",
              "    </tr>\n",
              "  </thead>\n",
              "  <tbody>\n",
              "    <tr>\n",
              "      <th>step</th>\n",
              "      <td>0</td>\n",
              "    </tr>\n",
              "    <tr>\n",
              "      <th>customer</th>\n",
              "      <td>0</td>\n",
              "    </tr>\n",
              "    <tr>\n",
              "      <th>age</th>\n",
              "      <td>0</td>\n",
              "    </tr>\n",
              "    <tr>\n",
              "      <th>gender</th>\n",
              "      <td>0</td>\n",
              "    </tr>\n",
              "    <tr>\n",
              "      <th>zipcodeOri</th>\n",
              "      <td>0</td>\n",
              "    </tr>\n",
              "    <tr>\n",
              "      <th>merchant</th>\n",
              "      <td>0</td>\n",
              "    </tr>\n",
              "    <tr>\n",
              "      <th>zipMerchant</th>\n",
              "      <td>0</td>\n",
              "    </tr>\n",
              "    <tr>\n",
              "      <th>category</th>\n",
              "      <td>0</td>\n",
              "    </tr>\n",
              "    <tr>\n",
              "      <th>amount</th>\n",
              "      <td>0</td>\n",
              "    </tr>\n",
              "    <tr>\n",
              "      <th>fraud</th>\n",
              "      <td>0</td>\n",
              "    </tr>\n",
              "  </tbody>\n",
              "</table>\n",
              "</div><br><label><b>dtype:</b> int64</label>"
            ]
          },
          "metadata": {},
          "execution_count": 2
        }
      ],
      "source": [
        "import pandas as pd\n",
        "\n",
        "df = pd.read_csv('/content/train_hsbc_df.csv')\n",
        "\n",
        "df.head()\n",
        "\n",
        "df.info()\n",
        "\n",
        "df.isnull().sum()\n"
      ]
    },
    {
      "cell_type": "code",
      "execution_count": 9,
      "id": "5a3edc34-60cc-461f-9c2f-262594942dec",
      "metadata": {
        "colab": {
          "base_uri": "https://localhost:8080/"
        },
        "id": "5a3edc34-60cc-461f-9c2f-262594942dec",
        "outputId": "e506b286-5a87-43f0-ab28-92e62d2f8165"
      },
      "outputs": [
        {
          "output_type": "stream",
          "name": "stdout",
          "text": [
            "Missing Values:\n",
            " step           0\n",
            "customer       0\n",
            "age            0\n",
            "gender         0\n",
            "zipcodeOri     0\n",
            "merchant       0\n",
            "zipMerchant    0\n",
            "category       0\n",
            "amount         0\n",
            "fraud          0\n",
            "dtype: int64\n",
            "\n",
            "Data Types:\n",
            " step             int64\n",
            "customer        object\n",
            "age             object\n",
            "gender          object\n",
            "zipcodeOri      object\n",
            "merchant        object\n",
            "zipMerchant     object\n",
            "category        object\n",
            "amount         float64\n",
            "fraud            int64\n",
            "dtype: object\n",
            "\n",
            "Number of duplicate rows:  0\n"
          ]
        },
        {
          "output_type": "stream",
          "name": "stderr",
          "text": [
            "<ipython-input-9-0e5ec92b01df>:16: FutureWarning: DataFrame.fillna with 'method' is deprecated and will raise in a future version. Use obj.ffill() or obj.bfill() instead.\n",
            "  df.fillna(method='ffill', inplace=True)\n"
          ]
        }
      ],
      "source": [
        "\n",
        "import pandas as pd\n",
        "from sklearn.preprocessing import LabelEncoder\n",
        "\n",
        "# Load the dataset\n",
        "df = pd.read_csv('/content/train_hsbc_df.csv')\n",
        "\n",
        "# Display basic information about the dataset\n",
        "print(\"Missing Values:\\n\", df.isnull().sum())\n",
        "print(\"\\nData Types:\\n\", df.dtypes)\n",
        "\n",
        "# Check for duplicate rows\n",
        "num_duplicates = df.duplicated().sum()\n",
        "print(\"\\nNumber of duplicate rows: \", num_duplicates)\n",
        "\n",
        "# Handle missing values (if any)\n",
        "df.fillna(method='ffill', inplace=True)\n",
        "\n",
        "# Initialize the dictionary to store the LabelEncoders for each categorical feature\n",
        "labelencoders = {}\n",
        "\n",
        "# Encode categorical variables\n",
        "for column in df.select_dtypes(include=['object']).columns:\n",
        "    le = LabelEncoder()\n",
        "    df[column] = le.fit_transform(df[column])\n",
        "    labelencoders[column] = le  # Store the LabelEncoder for future use\n",
        "\n",
        "# Now the dataframe 'df' has encoded categorical variables.\n",
        "\n"
      ]
    },
    {
      "cell_type": "code",
      "execution_count": 10,
      "id": "4956536b-98d7-443f-90b9-0c139ffcc84d",
      "metadata": {
        "colab": {
          "base_uri": "https://localhost:8080/"
        },
        "id": "4956536b-98d7-443f-90b9-0c139ffcc84d",
        "outputId": "64053e73-02a5-4ce5-95c6-9364d0d1cbc0"
      },
      "outputs": [
        {
          "output_type": "stream",
          "name": "stdout",
          "text": [
            "Index(['step', 'customer', 'age', 'gender', 'zipcodeOri', 'merchant',\n",
            "       'zipMerchant', 'category', 'amount', 'fraud'],\n",
            "      dtype='object')\n"
          ]
        }
      ],
      "source": [
        "print(df.columns)\n"
      ]
    },
    {
      "cell_type": "code",
      "execution_count": 11,
      "id": "c8b30498-6552-4d2c-9851-d8acfc6653fe",
      "metadata": {
        "id": "c8b30498-6552-4d2c-9851-d8acfc6653fe"
      },
      "outputs": [],
      "source": [
        "df.columns = df.columns.str.strip()\n"
      ]
    },
    {
      "cell_type": "code",
      "execution_count": 12,
      "id": "0a339db1-dff8-4ea3-802a-d72ea760f8cd",
      "metadata": {
        "colab": {
          "base_uri": "https://localhost:8080/"
        },
        "id": "0a339db1-dff8-4ea3-802a-d72ea760f8cd",
        "outputId": "41ddd871-6321-4cb3-8c32-637a14f93fcc"
      },
      "outputs": [
        {
          "output_type": "stream",
          "name": "stdout",
          "text": [
            "   step  customer  age  gender  zipcodeOri  merchant  zipMerchant  category  \\\n",
            "0     0      3219    3       2           0        34            0         4   \n",
            "1     0       723    3       2           0        34            0         4   \n",
            "2     0       362    3       2           0        44            0         6   \n",
            "3     0      4040    3       2           0        44            0         6   \n",
            "4     0       969    4       1           0         2            0        14   \n",
            "\n",
            "   amount  fraud  \n",
            "0   44.26      1  \n",
            "1  324.50      1  \n",
            "2  176.32      1  \n",
            "3  337.41      1  \n",
            "4  220.11      1  \n"
          ]
        }
      ],
      "source": [
        "print(df.head())\n"
      ]
    },
    {
      "cell_type": "code",
      "execution_count": 35,
      "id": "455d377f-eb2b-4a00-b8db-757471e2e49b",
      "metadata": {
        "colab": {
          "base_uri": "https://localhost:8080/"
        },
        "id": "455d377f-eb2b-4a00-b8db-757471e2e49b",
        "outputId": "9b406e50-87bf-45d9-a8b7-ccb41c9d64d5"
      },
      "outputs": [
        {
          "output_type": "stream",
          "name": "stdout",
          "text": [
            "Class distribution:\n",
            " fraud\n",
            "0    507443\n",
            "1      6200\n",
            "Name: count, dtype: int64\n"
          ]
        }
      ],
      "source": [
        "print(\"Class distribution:\\n\", df['fraud'].value_counts())\n"
      ]
    },
    {
      "cell_type": "code",
      "execution_count": 14,
      "id": "56ad7a5a-8ae6-4392-a6f3-1a74146e1799",
      "metadata": {
        "id": "56ad7a5a-8ae6-4392-a6f3-1a74146e1799"
      },
      "outputs": [],
      "source": [
        "X = df.drop('fraud', axis=1)\n",
        "y = df['fraud']\n",
        "\n"
      ]
    },
    {
      "cell_type": "code",
      "source": [
        "pip install imbalanced-learn\n"
      ],
      "metadata": {
        "colab": {
          "base_uri": "https://localhost:8080/"
        },
        "id": "TDoLM-MhlSQg",
        "outputId": "7d0aee7e-9e53-42d6-99ea-49cd44f6e758"
      },
      "id": "TDoLM-MhlSQg",
      "execution_count": 15,
      "outputs": [
        {
          "output_type": "stream",
          "name": "stdout",
          "text": [
            "Requirement already satisfied: imbalanced-learn in /usr/local/lib/python3.10/dist-packages (0.12.3)\n",
            "Requirement already satisfied: numpy>=1.17.3 in /usr/local/lib/python3.10/dist-packages (from imbalanced-learn) (1.26.4)\n",
            "Requirement already satisfied: scipy>=1.5.0 in /usr/local/lib/python3.10/dist-packages (from imbalanced-learn) (1.13.1)\n",
            "Requirement already satisfied: scikit-learn>=1.0.2 in /usr/local/lib/python3.10/dist-packages (from imbalanced-learn) (1.3.2)\n",
            "Requirement already satisfied: joblib>=1.1.1 in /usr/local/lib/python3.10/dist-packages (from imbalanced-learn) (1.4.2)\n",
            "Requirement already satisfied: threadpoolctl>=2.0.0 in /usr/local/lib/python3.10/dist-packages (from imbalanced-learn) (3.5.0)\n"
          ]
        }
      ]
    },
    {
      "cell_type": "code",
      "execution_count": 16,
      "id": "09702f06-73e3-4caf-88a7-ebb9372df10c",
      "metadata": {
        "colab": {
          "base_uri": "https://localhost:8080/"
        },
        "id": "09702f06-73e3-4caf-88a7-ebb9372df10c",
        "outputId": "8b8b959a-8fac-41d8-f5ec-16ea1734a2c7"
      },
      "outputs": [
        {
          "output_type": "stream",
          "name": "stdout",
          "text": [
            "step             int64\n",
            "customer         int64\n",
            "age              int64\n",
            "gender           int64\n",
            "zipcodeOri       int64\n",
            "merchant         int64\n",
            "zipMerchant      int64\n",
            "category         int64\n",
            "amount         float64\n",
            "dtype: object\n"
          ]
        }
      ],
      "source": [
        "print(X.dtypes)\n"
      ]
    },
    {
      "cell_type": "code",
      "execution_count": 17,
      "id": "37e2f376-69d8-4119-80b5-59eda7bce2ef",
      "metadata": {
        "id": "37e2f376-69d8-4119-80b5-59eda7bce2ef"
      },
      "outputs": [],
      "source": [
        "from sklearn.preprocessing import LabelEncoder\n",
        "\n",
        "# Identify categorical columns\n",
        "categorical_cols = X.select_dtypes(include=['object']).columns\n",
        "\n",
        "# Apply label encoding\n",
        "label_encoders = {}\n",
        "for col in categorical_cols:\n",
        "    le = LabelEncoder()\n",
        "    X[col] = le.fit_transform(X[col].astype(str))\n",
        "    label_encoders[col] = le\n"
      ]
    },
    {
      "cell_type": "code",
      "execution_count": 18,
      "id": "efc85b5b-f01e-438e-bbff-b3d65a91a72f",
      "metadata": {
        "id": "efc85b5b-f01e-438e-bbff-b3d65a91a72f"
      },
      "outputs": [],
      "source": [
        "X = pd.get_dummies(X)\n"
      ]
    },
    {
      "cell_type": "code",
      "execution_count": 20,
      "id": "7fc5e8f4-d292-4c0b-ac79-4789c934bef1",
      "metadata": {
        "colab": {
          "base_uri": "https://localhost:8080/"
        },
        "id": "7fc5e8f4-d292-4c0b-ac79-4789c934bef1",
        "outputId": "984948b9-dd8a-486e-b134-914813843db0"
      },
      "outputs": [
        {
          "output_type": "stream",
          "name": "stdout",
          "text": [
            "\n",
            "Preprocessed Training Data:\n",
            "        step  customer       age    gender  zipcodeOri  merchant  zipMerchant  \\\n",
            "0 -1.616732 -1.609975 -0.677661  1.524529         0.0 -0.877617          0.0   \n",
            "1 -0.283576 -1.194615  1.759481 -0.642607         0.0  1.261378          0.0   \n",
            "2 -1.119286  1.379072 -0.677661 -0.642607         0.0  0.191881          0.0   \n",
            "3  1.646517  1.323290  0.134719 -0.642607         0.0  1.083129          0.0   \n",
            "4 -0.144291 -0.500346 -0.677661 -0.642607         0.0 -0.877617          0.0   \n",
            "\n",
            "   category    amount  \n",
            "0  0.768265 -0.366770  \n",
            "1  0.179210  0.274319  \n",
            "2  0.768265 -0.390837  \n",
            "3  1.062792  3.849430  \n",
            "4  0.768265 -0.436816  \n",
            "\n",
            "Preprocessed Test Data:\n",
            "        step  customer       age    gender  zipcodeOri  merchant  zipMerchant  \\\n",
            "0 -0.601941  1.596192  0.947100 -0.642607         0.0  1.528752          0.0   \n",
            "1 -0.482554 -0.556986 -0.677661 -0.642607         0.0 -1.055866          0.0   \n",
            "2 -0.124393 -0.451430 -1.490042 -0.642607         0.0  1.707002          0.0   \n",
            "3 -1.019797  1.480337  0.947100  1.524529         0.0 -0.877617          0.0   \n",
            "4 -1.835609 -0.941452  0.947100 -0.642607         0.0 -1.768864          0.0   \n",
            "\n",
            "   category    amount  \n",
            "0 -1.293426 -0.126572  \n",
            "1  1.062792 -0.124996  \n",
            "2 -0.115317 -0.177476  \n",
            "3  0.768265 -0.399811  \n",
            "4  1.062792 -0.089049  \n"
          ]
        }
      ],
      "source": [
        "import pandas as pd\n",
        "from sklearn.model_selection import train_test_split\n",
        "from sklearn.preprocessing import LabelEncoder, StandardScaler\n",
        "from imblearn.over_sampling import SMOTE\n",
        "\n",
        "# 1. Assume a threshold to convert the continuous fraud score to a binary target\n",
        "threshold = 0.5  # Adjust this threshold based on your domain knowledge\n",
        "df['fraud_binary'] = df['fraud'].apply(lambda x: 1 if x >= threshold else 0)\n",
        "\n",
        "# 2. Handling Imbalanced Data\n",
        "X = df.drop(['fraud', 'fraud_binary'], axis=1)\n",
        "y = df['fraud_binary']\n",
        "\n",
        "# 3. Apply SMOTE\n",
        "smote = SMOTE(random_state=42)\n",
        "X_resampled, y_resampled = smote.fit_resample(X, y)\n",
        "\n",
        "# 4. Splitting the Dataset\n",
        "X_train, X_test, y_train, y_test = train_test_split(X_resampled, y_resampled, test_size=0.2, random_state=42, stratify=y_resampled)\n",
        "\n",
        "# 5. Encoding Categorical Variables\n",
        "label_encoders = {}\n",
        "for column in X_train.select_dtypes(include=['object']).columns:\n",
        "    le = LabelEncoder()\n",
        "    X_train[column] = le.fit_transform(X_train[column])\n",
        "    X_test[column] = le.transform(X_test[column])\n",
        "    label_encoders[column] = le\n",
        "\n",
        "# 6. Scaling/Normalizing Data\n",
        "scaler = StandardScaler()\n",
        "\n",
        "# Fit only on training data to avoid data leakage\n",
        "X_train_scaled = pd.DataFrame(scaler.fit_transform(X_train), columns=X_train.columns)\n",
        "X_test_scaled = pd.DataFrame(scaler.transform(X_test), columns=X_test.columns)\n",
        "\n",
        "# Verify the preprocessing process\n",
        "print(\"\\nPreprocessed Training Data:\\n\", X_train_scaled.head())\n",
        "print(\"\\nPreprocessed Test Data:\\n\", X_test_scaled.head())\n"
      ]
    },
    {
      "cell_type": "code",
      "source": [
        "# 1. Save the preprocessed training data to a CSV file\n",
        "X_train_scaled.to_csv('X_train_scaled.csv', index=False)\n",
        "y_train.to_csv('y_train.csv', index=False)\n",
        "\n",
        "# 2. Save the preprocessed test data to a CSV file\n",
        "X_test_scaled.to_csv('X_test_scaled.csv', index=False)\n",
        "y_test.to_csv('y_test.csv', index=False)\n"
      ],
      "metadata": {
        "id": "C-1ZEDg5pm2C"
      },
      "id": "C-1ZEDg5pm2C",
      "execution_count": 21,
      "outputs": []
    },
    {
      "cell_type": "code",
      "source": [
        "train_data_link = 'X_train_scaled.csv'\n",
        "train_labels_link = 'y_train.csv'\n",
        "test_data_link = 'X_test_scaled.csv'\n",
        "test_labels_link = 'y_test.csv'\n",
        "\n",
        "# Display download links\n",
        "print(f\"Download Training Data: {train_data_link}\")\n",
        "print(f\"Download Training Labels: {train_labels_link}\")\n",
        "print(f\"Download Test Data: {test_data_link}\")\n",
        "print(f\"Download Test Labels: {test_labels_link}\")\n"
      ],
      "metadata": {
        "colab": {
          "base_uri": "https://localhost:8080/"
        },
        "id": "BEkTkg8LqAYK",
        "outputId": "54b92c25-082a-4967-f6bb-1cdf79fd1afe"
      },
      "id": "BEkTkg8LqAYK",
      "execution_count": 22,
      "outputs": [
        {
          "output_type": "stream",
          "name": "stdout",
          "text": [
            "Download Training Data: X_train_scaled.csv\n",
            "Download Training Labels: y_train.csv\n",
            "Download Test Data: X_test_scaled.csv\n",
            "Download Test Labels: y_test.csv\n"
          ]
        }
      ]
    },
    {
      "cell_type": "code",
      "execution_count": 23,
      "id": "13d33a16-20d7-427a-bae7-287362e3f31e",
      "metadata": {
        "colab": {
          "base_uri": "https://localhost:8080/"
        },
        "id": "13d33a16-20d7-427a-bae7-287362e3f31e",
        "outputId": "c5dadc79-a084-4a46-f1bb-0e3e56b07880"
      },
      "outputs": [
        {
          "output_type": "stream",
          "name": "stdout",
          "text": [
            "\n",
            "Preprocessed Training Data:\n",
            "        step  customer       age    gender  zipcodeOri  merchant  zipMerchant  \\\n",
            "0 -1.616732 -1.609975 -0.677661  1.524529         0.0 -0.877617          0.0   \n",
            "1 -0.283576 -1.194615  1.759481 -0.642607         0.0  1.261378          0.0   \n",
            "2 -1.119286  1.379072 -0.677661 -0.642607         0.0  0.191881          0.0   \n",
            "3  1.646517  1.323290  0.134719 -0.642607         0.0  1.083129          0.0   \n",
            "4 -0.144291 -0.500346 -0.677661 -0.642607         0.0 -0.877617          0.0   \n",
            "\n",
            "   category    amount  \n",
            "0  0.768265 -0.366770  \n",
            "1  0.179210  0.274319  \n",
            "2  0.768265 -0.390837  \n",
            "3  1.062792  3.849430  \n",
            "4  0.768265 -0.436816  \n",
            "\n",
            "Preprocessed Test Data:\n",
            "        step  customer       age    gender  zipcodeOri  merchant  zipMerchant  \\\n",
            "0 -0.601941  1.596192  0.947100 -0.642607         0.0  1.528752          0.0   \n",
            "1 -0.482554 -0.556986 -0.677661 -0.642607         0.0 -1.055866          0.0   \n",
            "2 -0.124393 -0.451430 -1.490042 -0.642607         0.0  1.707002          0.0   \n",
            "3 -1.019797  1.480337  0.947100  1.524529         0.0 -0.877617          0.0   \n",
            "4 -1.835609 -0.941452  0.947100 -0.642607         0.0 -1.768864          0.0   \n",
            "\n",
            "   category    amount  \n",
            "0 -1.293426 -0.126572  \n",
            "1  1.062792 -0.124996  \n",
            "2 -0.115317 -0.177476  \n",
            "3  0.768265 -0.399811  \n",
            "4  1.062792 -0.089049  \n"
          ]
        }
      ],
      "source": [
        "import pandas as pd\n",
        "from sklearn.model_selection import train_test_split\n",
        "from sklearn.preprocessing import LabelEncoder, StandardScaler\n",
        "from imblearn.over_sampling import SMOTE\n",
        "\n",
        "# 1. Assume a threshold to convert the continuous fraud score to a binary target\n",
        "threshold = 0.5  # Adjust this threshold based on your domain knowledge\n",
        "df['fraud_binary'] = df['fraud'].apply(lambda x: 1 if x >= threshold else 0)\n",
        "\n",
        "# 2. Handling Imbalanced Data\n",
        "X = df.drop(['fraud', 'fraud_binary'], axis=1)\n",
        "y = df['fraud_binary']\n",
        "\n",
        "# 3. Apply SMOTE\n",
        "smote = SMOTE(random_state=42)\n",
        "X_resampled, y_resampled = smote.fit_resample(X, y)\n",
        "\n",
        "# 4. Splitting the Dataset\n",
        "X_train, X_test, y_train, y_test = train_test_split(X_resampled, y_resampled, test_size=0.2, random_state=42, stratify=y_resampled)\n",
        "\n",
        "# 5. Encoding Categorical Variables\n",
        "label_encoders = {}\n",
        "for column in X_train.select_dtypes(include=['object']).columns:\n",
        "    le = LabelEncoder()\n",
        "    X_train[column] = le.fit_transform(X_train[column])\n",
        "    X_test[column] = le.transform(X_test[column])\n",
        "    label_encoders[column] = le\n",
        "\n",
        "# 6. Scaling/Normalizing Data\n",
        "scaler = StandardScaler()\n",
        "\n",
        "# Fit only on training data to avoid data leakage\n",
        "X_train_scaled = pd.DataFrame(scaler.fit_transform(X_train), columns=X_train.columns)\n",
        "X_test_scaled = pd.DataFrame(scaler.transform(X_test), columns=X_test.columns)\n",
        "\n",
        "# Verify the preprocessing process\n",
        "print(\"\\nPreprocessed Training Data:\\n\", X_train_scaled.head())\n",
        "print(\"\\nPreprocessed Test Data:\\n\", X_test_scaled.head())\n"
      ]
    },
    {
      "cell_type": "markdown",
      "source": [
        "Random Forest\n"
      ],
      "metadata": {
        "id": "Y-zQSSnnvz52"
      },
      "id": "Y-zQSSnnvz52"
    },
    {
      "cell_type": "code",
      "execution_count": 24,
      "id": "790a0654-2d80-48dc-80b9-3d2f29c69578",
      "metadata": {
        "colab": {
          "base_uri": "https://localhost:8080/",
          "height": 74
        },
        "id": "790a0654-2d80-48dc-80b9-3d2f29c69578",
        "outputId": "2b86fdad-4c81-420d-edc4-55e610ec7320"
      },
      "outputs": [
        {
          "output_type": "execute_result",
          "data": {
            "text/plain": [
              "RandomForestClassifier(random_state=42)"
            ],
            "text/html": [
              "<style>#sk-container-id-1 {color: black;}#sk-container-id-1 pre{padding: 0;}#sk-container-id-1 div.sk-toggleable {background-color: white;}#sk-container-id-1 label.sk-toggleable__label {cursor: pointer;display: block;width: 100%;margin-bottom: 0;padding: 0.3em;box-sizing: border-box;text-align: center;}#sk-container-id-1 label.sk-toggleable__label-arrow:before {content: \"▸\";float: left;margin-right: 0.25em;color: #696969;}#sk-container-id-1 label.sk-toggleable__label-arrow:hover:before {color: black;}#sk-container-id-1 div.sk-estimator:hover label.sk-toggleable__label-arrow:before {color: black;}#sk-container-id-1 div.sk-toggleable__content {max-height: 0;max-width: 0;overflow: hidden;text-align: left;background-color: #f0f8ff;}#sk-container-id-1 div.sk-toggleable__content pre {margin: 0.2em;color: black;border-radius: 0.25em;background-color: #f0f8ff;}#sk-container-id-1 input.sk-toggleable__control:checked~div.sk-toggleable__content {max-height: 200px;max-width: 100%;overflow: auto;}#sk-container-id-1 input.sk-toggleable__control:checked~label.sk-toggleable__label-arrow:before {content: \"▾\";}#sk-container-id-1 div.sk-estimator input.sk-toggleable__control:checked~label.sk-toggleable__label {background-color: #d4ebff;}#sk-container-id-1 div.sk-label input.sk-toggleable__control:checked~label.sk-toggleable__label {background-color: #d4ebff;}#sk-container-id-1 input.sk-hidden--visually {border: 0;clip: rect(1px 1px 1px 1px);clip: rect(1px, 1px, 1px, 1px);height: 1px;margin: -1px;overflow: hidden;padding: 0;position: absolute;width: 1px;}#sk-container-id-1 div.sk-estimator {font-family: monospace;background-color: #f0f8ff;border: 1px dotted black;border-radius: 0.25em;box-sizing: border-box;margin-bottom: 0.5em;}#sk-container-id-1 div.sk-estimator:hover {background-color: #d4ebff;}#sk-container-id-1 div.sk-parallel-item::after {content: \"\";width: 100%;border-bottom: 1px solid gray;flex-grow: 1;}#sk-container-id-1 div.sk-label:hover label.sk-toggleable__label {background-color: #d4ebff;}#sk-container-id-1 div.sk-serial::before {content: \"\";position: absolute;border-left: 1px solid gray;box-sizing: border-box;top: 0;bottom: 0;left: 50%;z-index: 0;}#sk-container-id-1 div.sk-serial {display: flex;flex-direction: column;align-items: center;background-color: white;padding-right: 0.2em;padding-left: 0.2em;position: relative;}#sk-container-id-1 div.sk-item {position: relative;z-index: 1;}#sk-container-id-1 div.sk-parallel {display: flex;align-items: stretch;justify-content: center;background-color: white;position: relative;}#sk-container-id-1 div.sk-item::before, #sk-container-id-1 div.sk-parallel-item::before {content: \"\";position: absolute;border-left: 1px solid gray;box-sizing: border-box;top: 0;bottom: 0;left: 50%;z-index: -1;}#sk-container-id-1 div.sk-parallel-item {display: flex;flex-direction: column;z-index: 1;position: relative;background-color: white;}#sk-container-id-1 div.sk-parallel-item:first-child::after {align-self: flex-end;width: 50%;}#sk-container-id-1 div.sk-parallel-item:last-child::after {align-self: flex-start;width: 50%;}#sk-container-id-1 div.sk-parallel-item:only-child::after {width: 0;}#sk-container-id-1 div.sk-dashed-wrapped {border: 1px dashed gray;margin: 0 0.4em 0.5em 0.4em;box-sizing: border-box;padding-bottom: 0.4em;background-color: white;}#sk-container-id-1 div.sk-label label {font-family: monospace;font-weight: bold;display: inline-block;line-height: 1.2em;}#sk-container-id-1 div.sk-label-container {text-align: center;}#sk-container-id-1 div.sk-container {/* jupyter's `normalize.less` sets `[hidden] { display: none; }` but bootstrap.min.css set `[hidden] { display: none !important; }` so we also need the `!important` here to be able to override the default hidden behavior on the sphinx rendered scikit-learn.org. See: https://github.com/scikit-learn/scikit-learn/issues/21755 */display: inline-block !important;position: relative;}#sk-container-id-1 div.sk-text-repr-fallback {display: none;}</style><div id=\"sk-container-id-1\" class=\"sk-top-container\"><div class=\"sk-text-repr-fallback\"><pre>RandomForestClassifier(random_state=42)</pre><b>In a Jupyter environment, please rerun this cell to show the HTML representation or trust the notebook. <br />On GitHub, the HTML representation is unable to render, please try loading this page with nbviewer.org.</b></div><div class=\"sk-container\" hidden><div class=\"sk-item\"><div class=\"sk-estimator sk-toggleable\"><input class=\"sk-toggleable__control sk-hidden--visually\" id=\"sk-estimator-id-1\" type=\"checkbox\" checked><label for=\"sk-estimator-id-1\" class=\"sk-toggleable__label sk-toggleable__label-arrow\">RandomForestClassifier</label><div class=\"sk-toggleable__content\"><pre>RandomForestClassifier(random_state=42)</pre></div></div></div></div></div>"
            ]
          },
          "metadata": {},
          "execution_count": 24
        }
      ],
      "source": [
        "from sklearn.ensemble import RandomForestClassifier\n",
        "\n",
        "# Initialize and train your model\n",
        "model = RandomForestClassifier(random_state=42)\n",
        "model.fit(X_train_scaled, y_train)\n"
      ]
    },
    {
      "cell_type": "code",
      "execution_count": 25,
      "id": "8bbf5e08-d44b-46ce-afc2-4a30d1141219",
      "metadata": {
        "id": "8bbf5e08-d44b-46ce-afc2-4a30d1141219"
      },
      "outputs": [],
      "source": [
        "from sklearn.ensemble import RandomForestClassifier\n",
        "\n",
        "# Initialize and train your model\n",
        "model = RandomForestClassifier(random_state=42)\n",
        "model.fit(X_train_scaled, y_train)\n",
        "\n",
        "# Make predictions\n",
        "y_pred = model.predict(X_test_scaled)\n",
        "y_pred_proba = model.predict_proba(X_test_scaled)[:, 1]  # For AUC-ROC, use probabilities\n"
      ]
    },
    {
      "cell_type": "code",
      "execution_count": 26,
      "id": "7985cf0a-56f4-422d-9fb5-208eb486f495",
      "metadata": {
        "id": "7985cf0a-56f4-422d-9fb5-208eb486f495"
      },
      "outputs": [],
      "source": [
        "# Make predictions\n",
        "y_pred = model.predict(X_test_scaled)\n",
        "y_pred_proba = model.predict_proba(X_test_scaled)[:, 1]  # For AUC-ROC, use probabilities\n"
      ]
    },
    {
      "cell_type": "code",
      "execution_count": 27,
      "id": "956a6dec-35af-4e2b-b1aa-e8910e7c691e",
      "metadata": {
        "id": "956a6dec-35af-4e2b-b1aa-e8910e7c691e"
      },
      "outputs": [],
      "source": [
        "from sklearn.metrics import accuracy_score\n",
        "accuracy = accuracy_score(y_test, y_pred)\n"
      ]
    },
    {
      "cell_type": "code",
      "execution_count": 28,
      "id": "4364d4d1-c8c2-4677-9608-5783edd3752d",
      "metadata": {
        "colab": {
          "base_uri": "https://localhost:8080/"
        },
        "id": "4364d4d1-c8c2-4677-9608-5783edd3752d",
        "outputId": "a5c22711-03ac-41e4-a498-d3446e4ce9dd"
      },
      "outputs": [
        {
          "output_type": "stream",
          "name": "stdout",
          "text": [
            "Accuracy: 1.00\n",
            "Precision: 0.99\n",
            "Recall: 1.00\n",
            "F1 Score: 1.00\n",
            "AUC-ROC: 1.00\n",
            "\n",
            "Confusion Matrix:\n",
            " [[100809    680]\n",
            " [   163 101326]]\n",
            "\n",
            "Classification Report:\n",
            "               precision    recall  f1-score   support\n",
            "\n",
            "           0       1.00      0.99      1.00    101489\n",
            "           1       0.99      1.00      1.00    101489\n",
            "\n",
            "    accuracy                           1.00    202978\n",
            "   macro avg       1.00      1.00      1.00    202978\n",
            "weighted avg       1.00      1.00      1.00    202978\n",
            "\n"
          ]
        }
      ],
      "source": [
        "from sklearn.metrics import accuracy_score, precision_score, recall_score, f1_score, roc_auc_score, confusion_matrix, classification_report\n",
        "\n",
        "# Calculate metrics\n",
        "accuracy = accuracy_score(y_test, y_pred)\n",
        "precision = precision_score(y_test, y_pred)\n",
        "recall = recall_score(y_test, y_pred)\n",
        "f1 = f1_score(y_test, y_pred)\n",
        "auc_roc = roc_auc_score(y_test, y_pred_proba)\n",
        "conf_matrix = confusion_matrix(y_test, y_pred)\n",
        "report = classification_report(y_test, y_pred)\n",
        "\n",
        "# Print metrics\n",
        "print(f\"Accuracy: {accuracy:.2f}\")\n",
        "print(f\"Precision: {precision:.2f}\")\n",
        "print(f\"Recall: {recall:.2f}\")\n",
        "print(f\"F1 Score: {f1:.2f}\")\n",
        "print(f\"AUC-ROC: {auc_roc:.2f}\")\n",
        "print(\"\\nConfusion Matrix:\\n\", conf_matrix)\n",
        "print(\"\\nClassification Report:\\n\", report)\n",
        "\n"
      ]
    },
    {
      "cell_type": "code",
      "execution_count": null,
      "id": "743cb0e8-80ed-40ab-9b26-5af3395fccd9",
      "metadata": {
        "colab": {
          "base_uri": "https://localhost:8080/"
        },
        "id": "743cb0e8-80ed-40ab-9b26-5af3395fccd9",
        "outputId": "4de0f382-6386-41f7-b8c5-433e05d83e2f"
      },
      "outputs": [
        {
          "output_type": "stream",
          "name": "stdout",
          "text": [
            "\n",
            "Classification Report:\n",
            "               precision    recall  f1-score   support\n",
            "\n",
            "           0       1.00      0.99      1.00    101489\n",
            "           1       0.99      1.00      1.00    101489\n",
            "\n",
            "    accuracy                           1.00    202978\n",
            "   macro avg       1.00      1.00      1.00    202978\n",
            "weighted avg       1.00      1.00      1.00    202978\n",
            "\n"
          ]
        }
      ],
      "source": [
        "print(\"\\nClassification Report:\\n\", report)"
      ]
    },
    {
      "cell_type": "code",
      "execution_count": 29,
      "id": "674a2c09-3ff9-4c3a-a900-cd09c39beb52",
      "metadata": {
        "colab": {
          "base_uri": "https://localhost:8080/"
        },
        "id": "674a2c09-3ff9-4c3a-a900-cd09c39beb52",
        "outputId": "b30a5572-3a0d-43df-c0fc-fdd67d5734d9"
      },
      "outputs": [
        {
          "output_type": "stream",
          "name": "stdout",
          "text": [
            "Sample X_test_scaled:\n",
            "        step  customer       age    gender  zipcodeOri  merchant  zipMerchant  \\\n",
            "0 -0.601941  1.596192  0.947100 -0.642607         0.0  1.528752          0.0   \n",
            "1 -0.482554 -0.556986 -0.677661 -0.642607         0.0 -1.055866          0.0   \n",
            "2 -0.124393 -0.451430 -1.490042 -0.642607         0.0  1.707002          0.0   \n",
            "3 -1.019797  1.480337  0.947100  1.524529         0.0 -0.877617          0.0   \n",
            "4 -1.835609 -0.941452  0.947100 -0.642607         0.0 -1.768864          0.0   \n",
            "\n",
            "   category    amount  \n",
            "0 -1.293426 -0.126572  \n",
            "1  1.062792 -0.124996  \n",
            "2 -0.115317 -0.177476  \n",
            "3  0.768265 -0.399811  \n",
            "4  1.062792 -0.089049  \n",
            "Sample y_test:\n",
            " 549833    1\n",
            "544950    1\n",
            "611023    1\n",
            "103221    0\n",
            "696363    1\n",
            "Name: fraud_binary, dtype: int64\n",
            "Sample y_pred:\n",
            " [1 1 1 0 1 1 0 1 1 0]\n"
          ]
        }
      ],
      "source": [
        "print(\"Sample X_test_scaled:\\n\", X_test_scaled.head())\n",
        "print(\"Sample y_test:\\n\", y_test.head())\n",
        "print(\"Sample y_pred:\\n\", y_pred[:10])\n"
      ]
    },
    {
      "cell_type": "markdown",
      "source": [
        "Results"
      ],
      "metadata": {
        "id": "qIxSEm1euJP7"
      },
      "id": "qIxSEm1euJP7"
    },
    {
      "cell_type": "code",
      "execution_count": null,
      "id": "b61be3d2-b3cd-4436-9c0c-119f9ff53444",
      "metadata": {
        "colab": {
          "base_uri": "https://localhost:8080/"
        },
        "id": "b61be3d2-b3cd-4436-9c0c-119f9ff53444",
        "outputId": "208744f0-d261-4420-aea7-0f939c5b7606"
      },
      "outputs": [
        {
          "output_type": "stream",
          "name": "stdout",
          "text": [
            "Accuracy: 1.00\n",
            "Precision: 0.99\n",
            "Recall (Sensitivity): 1.00\n",
            "F1 Score: 1.00\n",
            "AUC-ROC: 1.00\n",
            "Specificity: 0.99\n",
            "\n",
            "Confusion Matrix:\n",
            " [[100823    666]\n",
            " [    74 101415]]\n",
            "\n",
            "Classification Report:\n",
            "               precision    recall  f1-score   support\n",
            "\n",
            "           0       1.00      0.99      1.00    101489\n",
            "           1       0.99      1.00      1.00    101489\n",
            "\n",
            "    accuracy                           1.00    202978\n",
            "   macro avg       1.00      1.00      1.00    202978\n",
            "weighted avg       1.00      1.00      1.00    202978\n",
            "\n"
          ]
        }
      ],
      "source": [
        "from sklearn.metrics import accuracy_score, precision_score, recall_score, f1_score, roc_auc_score, confusion_matrix, classification_report\n",
        "\n",
        "# Calculate predictions (assuming y_pred and y_pred_proba are already defined)\n",
        "accuracy = accuracy_score(y_test, y_pred)\n",
        "precision = precision_score(y_test, y_pred)\n",
        "recall = recall_score(y_test, y_pred)\n",
        "f1 = f1_score(y_test, y_pred)\n",
        "auc_roc = roc_auc_score(y_test, y_pred_proba)\n",
        "conf_matrix = confusion_matrix(y_test, y_pred)\n",
        "report = classification_report(y_test, y_pred)\n",
        "\n",
        "# Extract True Positives, True Negatives, False Positives, False Negatives from the confusion matrix\n",
        "TN, FP, FN, TP = conf_matrix.ravel()\n",
        "\n",
        "# Calculate Specificity\n",
        "specificity = TN / (TN + FP)\n",
        "\n",
        "# Print metrics\n",
        "print(f\"Accuracy: {accuracy:.2f}\")\n",
        "print(f\"Precision: {precision:.2f}\")\n",
        "print(f\"Recall (Sensitivity): {recall:.2f}\")\n",
        "print(f\"F1 Score: {f1:.2f}\")\n",
        "print(f\"AUC-ROC: {auc_roc:.2f}\")\n",
        "print(f\"Specificity: {specificity:.2f}\")\n",
        "\n",
        "print(\"\\nConfusion Matrix:\\n\", conf_matrix)\n",
        "print(\"\\nClassification Report:\\n\", report)\n"
      ]
    },
    {
      "cell_type": "code",
      "source": [
        "Svm"
      ],
      "metadata": {
        "id": "zxkt8uLMudIP"
      },
      "id": "zxkt8uLMudIP",
      "execution_count": null,
      "outputs": []
    },
    {
      "cell_type": "code",
      "source": [
        "import pandas as pd\n",
        "from sklearn.model_selection import train_test_split\n",
        "from sklearn.preprocessing import LabelEncoder, StandardScaler\n",
        "from imblearn.over_sampling import SMOTE\n",
        "from sklearn.svm import SVC\n",
        "from sklearn.metrics import accuracy_score, precision_score, recall_score, f1_score, roc_auc_score, confusion_matrix, classification_report\n",
        "from sklearn.compose import ColumnTransformer\n",
        "from sklearn.pipeline import Pipeline\n",
        "from sklearn.preprocessing import OneHotEncoder\n",
        "from sklearn.impute import SimpleImputer\n",
        "\n",
        "# Assume a threshold to convert the continuous fraud score to a binary target\n",
        "threshold = 0.5\n",
        "df['fraud_binary'] = (df['fraud'] >= threshold).astype(int)\n",
        "\n",
        "# Separate features and target\n",
        "X = df.drop(['fraud', 'fraud_binary'], axis=1)\n",
        "y = df['fraud_binary']\n",
        "\n",
        "# Apply SMOTE to handle imbalanced data\n",
        "smote = SMOTE(random_state=42)\n",
        "X_resampled, y_resampled = smote.fit_resample(X, y)\n",
        "\n",
        "# Split the Dataset into Training and Test sets\n",
        "X_train, X_test, y_train, y_test = train_test_split(X_resampled, y_resampled, test_size=0.2, random_state=42, stratify=y_resampled)\n",
        "\n",
        "# Define preprocessing for numeric and categorical data\n",
        "numeric_features = X_train.select_dtypes(include=['int64', 'float64']).columns\n",
        "categorical_features = X_train.select_dtypes(include=['object']).columns\n",
        "\n",
        "preprocessor = ColumnTransformer(\n",
        "    transformers=[\n",
        "        ('num', Pipeline(steps=[\n",
        "            ('imputer', SimpleImputer(strategy='mean')),\n",
        "            ('scaler', StandardScaler())]), numeric_features),\n",
        "        ('cat', Pipeline(steps=[\n",
        "            ('imputer', SimpleImputer(strategy='constant', fill_value='missing')),\n",
        "            ('onehot', OneHotEncoder(handle_unknown='ignore', sparse=False))]), categorical_features)\n",
        "    ])\n",
        "\n",
        "# Create and fit the SVM model within a pipeline\n",
        "pipeline = Pipeline(steps=[\n",
        "    ('preprocessor', preprocessor),\n",
        "    ('classifier', SVC(probability=True, random_state=42))\n",
        "])\n",
        "\n",
        "pipeline.fit(X_train, y_train)\n",
        "\n",
        "# Make predictions\n",
        "y_pred = pipeline.predict(X_test)\n",
        "y_pred_proba = pipeline.predict_proba(X_test)[:, 1]\n",
        "\n",
        "# Evaluate the model\n",
        "accuracy = accuracy_score(y_test, y_pred)\n",
        "precision = precision_score(y_test, y_pred)\n",
        "recall = recall_score(y_test, y_pred)\n",
        "f1 = f1_score(y_test, y_pred)\n",
        "auc_roc = roc_auc_score(y_test, y_pred_proba)\n",
        "conf_matrix = confusion_matrix(y_test, y_pred)\n",
        "report = classification_report(y_test, y_pred)\n",
        "\n",
        "# Calculate Specificity\n",
        "TN, FP, FN, TP = conf_matrix.ravel()\n",
        "specificity = TN / (TN + FP)\n",
        "\n",
        "# Print the metrics\n",
        "print(f\"Accuracy: {accuracy:.2f}\")\n",
        "print(f\"Precision: {precision:.2f}\")\n",
        "print(f\"Recall (Sensitivity): {recall:.2f}\")\n",
        "print(f\"F1 Score: {f1:.2f}\")\n",
        "print(f\"AUC-ROC: {auc_roc:.2f}\")\n",
        "print(f\"Specificity: {specificity:.2f}\")\n",
        "print(\"\\nConfusion Matrix:\\n\", conf_matrix)\n",
        "print(\"\\nClassification Report:\\n\", report)\n",
        "\n",
        "\n"
      ],
      "metadata": {
        "id": "doJC7ChzuUfd"
      },
      "id": "doJC7ChzuUfd",
      "execution_count": null,
      "outputs": []
    },
    {
      "cell_type": "markdown",
      "source": [
        "Linear regression"
      ],
      "metadata": {
        "id": "OwsFp9eBuPE3"
      },
      "id": "OwsFp9eBuPE3"
    },
    {
      "cell_type": "code",
      "source": [
        "import pandas as pd\n",
        "from sklearn.model_selection import train_test_split\n",
        "from sklearn.preprocessing import LabelEncoder, StandardScaler\n",
        "from imblearn.over_sampling import SMOTE\n",
        "from sklearn.linear_model import LinearRegression\n",
        "from sklearn.metrics import mean_squared_error, r2_score\n",
        "from sklearn.compose import ColumnTransformer\n",
        "from sklearn.pipeline import Pipeline\n",
        "from sklearn.preprocessing import OneHotEncoder\n",
        "from sklearn.impute import SimpleImputer\n",
        "\n",
        "# Assume a continuous target variable for regression\n",
        "target = 'fraud'  # replace with the actual target column name\n",
        "\n",
        "# Separate features and target\n",
        "X = df.drop(target, axis=1)\n",
        "y = df[target]\n",
        "\n",
        "# Apply SMOTE to handle imbalanced data (if necessary, though it's less common for regression)\n",
        "# SMOTE is generally used for classification, so you might skip this step for regression\n",
        "# smote = SMOTE(random_state=42)\n",
        "# X_resampled, y_resampled = smote.fit_resample(X, y)\n",
        "\n",
        "# Split the Dataset into Training and Test sets\n",
        "X_train, X_test, y_train, y_test = train_test_split(X, y, test_size=0.2, random_state=42, stratify=y)\n",
        "\n",
        "# Define preprocessing for numeric and categorical data\n",
        "numeric_features = X_train.select_dtypes(include=['int64', 'float64']).columns\n",
        "categorical_features = X_train.select_dtypes(include=['object']).columns\n",
        "\n",
        "preprocessor = ColumnTransformer(\n",
        "    transformers=[\n",
        "        ('num', Pipeline(steps=[\n",
        "            ('imputer', SimpleImputer(strategy='mean')),\n",
        "            ('scaler', StandardScaler())]), numeric_features),\n",
        "        ('cat', Pipeline(steps=[\n",
        "            ('imputer', SimpleImputer(strategy='constant', fill_value='missing')),\n",
        "            ('onehot', OneHotEncoder(handle_unknown='ignore', sparse=False))]), categorical_features)\n",
        "    ])\n",
        "\n",
        "# Create and fit the Linear Regression model within a pipeline\n",
        "pipeline = Pipeline(steps=[\n",
        "    ('preprocessor', preprocessor),\n",
        "    ('regressor', LinearRegression())\n",
        "])\n",
        "\n",
        "pipeline.fit(X_train, y_train)\n",
        "\n",
        "# Make predictions\n",
        "y_pred = pipeline.predict(X_test)\n",
        "\n",
        "# Evaluate the model\n",
        "mse = mean_squared_error(y_test, y_pred)\n",
        "r2 = r2_score(y_test, y_pred)\n",
        "\n",
        "# Print the metrics\n",
        "print(f\"Mean Squared Error: {mse:.2f}\")\n",
        "print(f\"R^2 Score: {r2:.2f}\")\n",
        "\n"
      ],
      "metadata": {
        "id": "o_xQMUiGLQ1g",
        "colab": {
          "base_uri": "https://localhost:8080/"
        },
        "outputId": "89f06eeb-5773-4fdd-a3ff-3da84f3723a8"
      },
      "id": "o_xQMUiGLQ1g",
      "execution_count": 30,
      "outputs": [
        {
          "output_type": "stream",
          "name": "stdout",
          "text": [
            "Mean Squared Error: 0.00\n",
            "R^2 Score: 1.00\n"
          ]
        }
      ]
    },
    {
      "cell_type": "markdown",
      "source": [
        "Visualizing the dataset\n",
        "\n"
      ],
      "metadata": {
        "id": "YK9L8cXQt81S"
      },
      "id": "YK9L8cXQt81S"
    },
    {
      "cell_type": "code",
      "source": [
        "import pandas as pd\n",
        "import matplotlib.pyplot as plt\n",
        "\n",
        "# Load the dataset\n",
        "df = pd.read_csv('/content/train_hsbc_df.csv')\n",
        "\n",
        "# Save a sample of the dataset to a file for inclusion in the report\n",
        "df_sample = df.head()\n",
        "df_sample.to_csv('dataset_sample.csv', index=False)\n",
        "\n",
        "# 1. Class Distribution\n",
        "\n",
        "# Get the class distribution\n",
        "class_distribution = df['fraud'].value_counts()\n",
        "\n",
        "# Plot pie chart\n",
        "plt.figure(figsize=(8, 6))\n",
        "plt.pie(class_distribution, labels=class_distribution.index, autopct='%1.1f%%', colors=['lightcoral', 'lightgreen'])\n",
        "plt.title('Class Distribution of Transactions')\n",
        "plt.savefig('class_distribution_pie_chart.png')\n",
        "plt.show()\n",
        "\n",
        "# 2. Gender Distribution\n",
        "\n",
        "# Gender distribution\n",
        "gender_distribution = df['gender'].value_counts()\n",
        "\n",
        "# Plot pie chart\n",
        "plt.figure(figsize=(8, 6))\n",
        "plt.pie(gender_distribution, labels=gender_distribution.index, autopct='%1.1f%%', colors=['skyblue', 'salmon'])\n",
        "plt.title('Gender Distribution')\n",
        "plt.savefig('gender_distribution_pie_chart.png')\n",
        "plt.show()\n",
        "\n",
        "# 3. Transaction Category Distribution\n",
        "\n",
        "# Category distribution\n",
        "category_distribution = df['category'].value_counts()\n",
        "\n",
        "# Plot pie chart\n",
        "plt.figure(figsize=(10, 8))\n",
        "plt.pie(category_distribution, labels=category_distribution.index, autopct='%1.1f%%', colors=plt.cm.Paired(range(len(category_distribution))))\n",
        "plt.title('Transaction Category Distribution')\n",
        "plt.savefig('category_distribution_pie_chart.png')\n",
        "plt.show()\n",
        "\n",
        "# 4. Transaction Amount Distribution (Optional)\n",
        "\n",
        "# Amount distribution (binned for visualization purposes)\n",
        "bins = [0, 50, 100, 200, 500, 1000, 5000, df['amount'].max()]\n",
        "labels = ['0-50', '51-100', '101-200', '201-500', '501-1000', '1001-5000', '5000+']\n",
        "df['amount_binned'] = pd.cut(df['amount'], bins=bins, labels=labels, right=False)\n",
        "\n",
        "# Amount distribution\n",
        "amount_distribution = df['amount_binned'].value_counts()\n",
        "\n",
        "# Plot pie chart\n",
        "plt.figure(figsize=(10, 8))\n",
        "plt.pie(amount_distribution, labels=amount_distribution.index, autopct='%1.1f%%', colors=plt.cm.Paired(range(len(amount_distribution))))\n",
        "plt.title('Transaction Amount Distribution')\n",
        "plt.savefig('amount_distribution_pie_chart.png')\n",
        "plt.show()\n",
        "\n"
      ],
      "metadata": {
        "colab": {
          "base_uri": "https://localhost:8080/",
          "height": 1000
        },
        "id": "AMoxJjgMtWtA",
        "outputId": "8182291b-0df5-4c1b-bf31-2bb476d02bb5"
      },
      "id": "AMoxJjgMtWtA",
      "execution_count": 32,
      "outputs": [
        {
          "output_type": "display_data",
          "data": {
            "text/plain": [
              "<Figure size 800x600 with 1 Axes>"
            ],
            "image/png": "[encoded data removed]"
          },
          "metadata": {}
        },
        {
          "output_type": "display_data",
          "data": {
            "text/plain": [
              "<Figure size 800x600 with 1 Axes>"
            ],
            "image/png": "[encoded data removed]"
          },
          "metadata": {}
        },
        {
          "output_type": "display_data",
          "data": {
            "text/plain": [
              "<Figure size 1000x800 with 1 Axes>"
            ],
            "image/png": "[encoded data removed]"
          },
          "metadata": {}
        },
        {
          "output_type": "display_data",
          "data": {
            "text/plain": [
              "<Figure size 1000x800 with 1 Axes>"
            ],
            "image/png": "[encoded data removed]"
          },
          "metadata": {}
        }
      ]
    }
  ],
  "metadata": {
    "kernelspec": {
      "display_name": "Python 3",
      "name": "python3"
    },
    "language_info": {
      "codemirror_mode": {
        "name": "ipython",
        "version": 3
      },
      "file_extension": ".py",
      "mimetype": "text/x-python",
      "name": "python",
      "nbconvert_exporter": "python",
      "pygments_lexer": "ipython3",
      "version": "3.12.4"
    },
    "colab": {
      "provenance": [],
      "gpuType": "T4"
    },
    "accelerator": "GPU"
  },
  "nbformat": 4,
  "nbformat_minor": 5
}